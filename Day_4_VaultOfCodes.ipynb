{
  "nbformat": 4,
  "nbformat_minor": 0,
  "metadata": {
    "colab": {
      "provenance": [],
      "authorship_tag": "ABX9TyOBnVwmUm5/HA5ipXZWknJJ",
      "include_colab_link": true
    },
    "kernelspec": {
      "name": "python3",
      "display_name": "Python 3"
    },
    "language_info": {
      "name": "python"
    }
  },
  "cells": [
    {
      "cell_type": "markdown",
      "metadata": {
        "id": "view-in-github",
        "colab_type": "text"
      },
      "source": [
        "<a href=\"https://colab.research.google.com/github/Faisal0078600/vaultofcodes_DAY1/blob/main/Day_4_VaultOfCodes.ipynb\" target=\"_parent\"><img src=\"https://colab.research.google.com/assets/colab-badge.svg\" alt=\"Open In Colab\"/></a>"
      ]
    },
    {
      "cell_type": "markdown",
      "source": [
        "Day-4 VaultOfCodes\n",
        "\n",
        "**EXPENSE TRACKER**"
      ],
      "metadata": {
        "id": "WS9ljSPtOL2p"
      }
    },
    {
      "cell_type": "code",
      "execution_count": null,
      "metadata": {
        "id": "LgVFk0fyEZ-_",
        "colab": {
          "base_uri": "https://localhost:8080/",
          "height": 1000
        },
        "outputId": "629e0b8d-9214-4a58-f437-a94573be02ab"
      },
      "outputs": [
        {
          "name": "stdout",
          "output_type": "stream",
          "text": [
            "\n",
            "Expense Tracker Menu:\n",
            "1. Add Expense\n",
            "2. View Total Expenses\n",
            "3. View Expenses by Category\n",
            "4. View All Expenses\n",
            "5. Plot Expenses by Category\n",
            "6. Quit\n",
            "Enter your choice (1-6): 1\n",
            "Enter expense category: Food\n",
            "Enter expense amount: 11\n",
            "Expense added successfully.\n",
            "\n",
            "Expense Tracker Menu:\n",
            "1. Add Expense\n",
            "2. View Total Expenses\n",
            "3. View Expenses by Category\n",
            "4. View All Expenses\n",
            "5. Plot Expenses by Category\n",
            "6. Quit\n",
            "Enter your choice (1-6): 1\n",
            "Enter expense category: Transport\n",
            "Enter expense amount: 5\n",
            "Expense added successfully.\n",
            "\n",
            "Expense Tracker Menu:\n",
            "1. Add Expense\n",
            "2. View Total Expenses\n",
            "3. View Expenses by Category\n",
            "4. View All Expenses\n",
            "5. Plot Expenses by Category\n",
            "6. Quit\n",
            "Enter your choice (1-6): 2\n",
            "Total Expenses: 16.0\n",
            "\n",
            "Expense Tracker Menu:\n",
            "1. Add Expense\n",
            "2. View Total Expenses\n",
            "3. View Expenses by Category\n",
            "4. View All Expenses\n",
            "5. Plot Expenses by Category\n",
            "6. Quit\n",
            "Enter your choice (1-6): 3\n",
            "Enter category to view expenses: Food\n",
            "Expenses for Food:\n",
            "Category: Food, Amount: 11.0\n",
            "\n",
            "Expense Tracker Menu:\n",
            "1. Add Expense\n",
            "2. View Total Expenses\n",
            "3. View Expenses by Category\n",
            "4. View All Expenses\n",
            "5. Plot Expenses by Category\n",
            "6. Quit\n",
            "Enter your choice (1-6): 4\n",
            "All Expenses:\n",
            "Category: Food, Amount: 11.0\n",
            "Category: Transport, Amount: 5.0\n",
            "\n",
            "Expense Tracker Menu:\n",
            "1. Add Expense\n",
            "2. View Total Expenses\n",
            "3. View Expenses by Category\n",
            "4. View All Expenses\n",
            "5. Plot Expenses by Category\n",
            "6. Quit\n",
            "Enter your choice (1-6): 5\n"
          ]
        },
        {
          "output_type": "display_data",
          "data": {
            "text/plain": [
              "<Figure size 1000x600 with 1 Axes>"
            ],
            "image/png": "[encoded data removed]"
          },
          "metadata": {}
        },
        {
          "output_type": "stream",
          "name": "stdout",
          "text": [
            "\n",
            "Expense Tracker Menu:\n",
            "1. Add Expense\n",
            "2. View Total Expenses\n",
            "3. View Expenses by Category\n",
            "4. View All Expenses\n",
            "5. Plot Expenses by Category\n",
            "6. Quit\n",
            "Enter your choice (1-6): 6\n",
            "Exiting Expense Tracker. Goodbye!\n"
          ]
        }
      ],
      "source": [
        "import matplotlib.pyplot as plt\n",
        "\n",
        "class ExpenseTracker:\n",
        "    def __init__(self):\n",
        "        self.expenses = []\n",
        "\n",
        "    def add_expense(self, category, amount):\n",
        "        self.expenses.append((category, amount))\n",
        "\n",
        "    def get_total_expense(self):\n",
        "        return sum(amount for category, amount in self.expenses)\n",
        "\n",
        "    def get_expenses_by_category(self, category):\n",
        "        return [(cat, amount) for cat, amount in self.expenses if cat == category]\n",
        "\n",
        "    def display_expenses(self):\n",
        "        for category, amount in self.expenses:\n",
        "            print(f\"Category: {category}, Amount: {amount}\")\n",
        "\n",
        "    def plot_expenses_by_category(self):\n",
        "        categories = set(category for category, _ in self.expenses)\n",
        "        category_expenses = {cat: 0 for cat in categories}\n",
        "\n",
        "        for category, amount in self.expenses:\n",
        "            category_expenses[category] += amount\n",
        "\n",
        "        plt.figure(figsize=(10, 6))\n",
        "        plt.bar(category_expenses.keys(), category_expenses.values())\n",
        "        plt.xlabel('Categories')\n",
        "        plt.ylabel('Amount')\n",
        "        plt.title('Expense Analysis by Category')\n",
        "        plt.show()\n",
        "\n",
        "def main():\n",
        "    tracker = ExpenseTracker()\n",
        "\n",
        "    while True:\n",
        "        print(\"\\nExpense Tracker Menu:\")\n",
        "        print(\"1. Add Expense\")\n",
        "        print(\"2. View Total Expenses\")\n",
        "        print(\"3. View Expenses by Category\")\n",
        "        print(\"4. View All Expenses\")\n",
        "        print(\"5. Plot Expenses by Category\")\n",
        "        print(\"6. Quit\")\n",
        "\n",
        "        choice = input(\"Enter your choice (1-6): \")\n",
        "\n",
        "        if choice == \"1\":\n",
        "            category = input(\"Enter expense category: \")\n",
        "            amount = float(input(\"Enter expense amount: \"))\n",
        "            tracker.add_expense(category, amount)\n",
        "            print(\"Expense added successfully.\")\n",
        "\n",
        "        elif choice == \"2\":\n",
        "            total_expense = tracker.get_total_expense()\n",
        "            print(f\"Total Expenses: {total_expense}\")\n",
        "\n",
        "        elif choice == \"3\":\n",
        "            category = input(\"Enter category to view expenses: \")\n",
        "            expenses = tracker.get_expenses_by_category(category)\n",
        "            if expenses:\n",
        "                print(f\"Expenses for {category}:\")\n",
        "                for cat, amount in expenses:\n",
        "                    print(f\"Category: {cat}, Amount: {amount}\")\n",
        "            else:\n",
        "                print(f\"No expenses found for {category}.\")\n",
        "\n",
        "        elif choice == \"4\":\n",
        "            print(\"All Expenses:\")\n",
        "            tracker.display_expenses()\n",
        "\n",
        "        elif choice == \"5\":\n",
        "            tracker.plot_expenses_by_category()\n",
        "\n",
        "        elif choice == \"6\":\n",
        "            print(\"Exiting Expense Tracker. Goodbye!\")\n",
        "            break\n",
        "\n",
        "        else:\n",
        "            print(\"Invalid choice. Please try again.\")\n",
        "\n",
        "if __name__ == \"__main__\":\n",
        "    main()\n"
      ]
    },
    {
      "cell_type": "code",
      "source": [],
      "metadata": {
        "id": "TTDiDYou0203"
      },
      "execution_count": null,
      "outputs": []
    }
  ]
}