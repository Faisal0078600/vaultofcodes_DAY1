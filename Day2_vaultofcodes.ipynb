{
  "nbformat": 4,
  "nbformat_minor": 0,
  "metadata": {
    "colab": {
      "provenance": [],
      "authorship_tag": "ABX9TyOyfFbJsJCV1QvocD18iim2",
      "include_colab_link": true
    },
    "kernelspec": {
      "name": "python3",
      "display_name": "Python 3"
    },
    "language_info": {
      "name": "python"
    }
  },
  "cells": [
    {
      "cell_type": "markdown",
      "metadata": {
        "id": "view-in-github",
        "colab_type": "text"
      },
      "source": [
        "<a href=\"https://colab.research.google.com/github/Faisal0078600/vaultofcodes_DAY1/blob/main/Day2_vaultofcodes.ipynb\" target=\"_parent\"><img src=\"https://colab.research.google.com/assets/colab-badge.svg\" alt=\"Open In Colab\"/></a>"
      ]
    },
    {
      "cell_type": "markdown",
      "source": [
        "Write a program to count word frequencies in a given text\n",
        "*italicized text*"
      ],
      "metadata": {
        "id": "f1IAdQoa1Fg6"
      }
    },
    {
      "cell_type": "code",
      "source": [
        "def count_word_frequencies(text):\n",
        "    words = text.lower().split()  # Convert text to lowercase and split into words\n",
        "    word_counts = {}\n",
        "\n",
        "    for word in words:\n",
        "        word_counts[word] = word_counts.get(word, 0) + 1\n",
        "\n",
        "    return word_counts\n",
        "\n",
        "# Example text\n",
        "text = input(\"enter the text ?\")\n",
        "\n",
        "# Count word frequencies\n",
        "word_frequencies = count_word_frequencies(text)\n",
        "\n",
        "# Print the word frequencies\n",
        "for word, count in word_frequencies.items():\n",
        "    print(f\"{word}: {count}\")\n"
      ],
      "metadata": {
        "colab": {
          "base_uri": "https://localhost:8080/"
        },
        "id": "PDmE4k8z1lPo",
        "outputId": "6829874e-c711-4f9a-c1a1-9c2b1968c363"
      },
      "execution_count": 3,
      "outputs": [
        {
          "output_type": "stream",
          "name": "stdout",
          "text": [
            "enter the text ?Mohammed Faisal\n",
            "mohammed: 1\n",
            "faisal: 1\n"
          ]
        }
      ]
    },
    {
      "cell_type": "markdown",
      "source": [
        "Mini Project: Develop a basic to-do list program using functions and data structures\n",
        "add features like adding tasks in the to-do list, display the tasks and quitting the loop\n"
      ],
      "metadata": {
        "id": "90-NBKdF2Rka"
      }
    },
    {
      "cell_type": "code",
      "source": [
        "# Step 1: Define Functions\n",
        "\n",
        "def display_list(todo_list):\n",
        "    if not todo_list:\n",
        "        print(\"Your to-do list is empty.\")\n",
        "    else:\n",
        "        print(\"To-Do List:\")\n",
        "        for index, task in enumerate(todo_list, 1):\n",
        "            print(f\"{index}. {task}\")\n",
        "\n",
        "def add_task(todo_list, task):\n",
        "    todo_list.append(task)\n",
        "    print(f\"Task '{task}' added to the to-do list.\")\n",
        "\n",
        "def remove_task(todo_list, task_index):\n",
        "    if 1 <= task_index <= len(todo_list):\n",
        "        removed_task = todo_list.pop(task_index - 1)\n",
        "        print(f\"Task '{removed_task}' removed from the to-do list.\")\n",
        "    else:\n",
        "        print(\"Invalid task index. Please enter a valid index.\")\n",
        "\n",
        "# Step 2: Implement the Main Function\n",
        "\n",
        "def main():\n",
        "    todo_list = []\n",
        "\n",
        "    while True:\n",
        "        print(\"\\nMenu:\")\n",
        "        print(\"1. Display To-Do List\")\n",
        "        print(\"2. Add Task\")\n",
        "        print(\"3. Remove Task\")\n",
        "        print(\"4. Quit\")\n",
        "\n",
        "        choice = input(\"Enter your choice: \")\n",
        "\n",
        "        if choice == \"1\":\n",
        "            display_list(todo_list)\n",
        "        elif choice == \"2\":\n",
        "            task = input(\"Enter the task: \")\n",
        "            add_task(todo_list, task)\n",
        "        elif choice == \"3\":\n",
        "            display_list(todo_list)\n",
        "            task_index = int(input(\"Enter the task index to remove: \"))\n",
        "            remove_task(todo_list, task_index)\n",
        "        elif choice == \"4\":\n",
        "            break\n",
        "        else:\n",
        "            print(\"Invalid choice. Please enter a valid option.\")\n",
        "\n",
        "# Step 3: Testing\n",
        "\n",
        "# Uncomment the following lines to test individual functions\n",
        "# display_list([\"Task 1\", \"Task 2\"])\n",
        "# add_task([\"Task 1\", \"Task 2\"], \"Task 3\")\n",
        "# remove_task([\"Task 1\", \"Task 2\"], 2)\n",
        "\n",
        "# Step 4: Run and Debug\n",
        "\n",
        "if __name__ == \"__main__\":\n",
        "    main()\n"
      ],
      "metadata": {
        "colab": {
          "base_uri": "https://localhost:8080/"
        },
        "id": "NkzPVK_R199O",
        "outputId": "33db5778-c109-45fd-d108-f7fcc6197b0c"
      },
      "execution_count": 4,
      "outputs": [
        {
          "name": "stdout",
          "output_type": "stream",
          "text": [
            "\n",
            "Menu:\n",
            "1. Display To-Do List\n",
            "2. Add Task\n",
            "3. Remove Task\n",
            "4. Quit\n",
            "Enter your choice: 1\n",
            "Your to-do list is empty.\n",
            "\n",
            "Menu:\n",
            "1. Display To-Do List\n",
            "2. Add Task\n",
            "3. Remove Task\n",
            "4. Quit\n",
            "Enter your choice: 2\n",
            "Enter the task: 22\n",
            "Task '22' added to the to-do list.\n",
            "\n",
            "Menu:\n",
            "1. Display To-Do List\n",
            "2. Add Task\n",
            "3. Remove Task\n",
            "4. Quit\n",
            "Enter your choice: 1\n",
            "To-Do List:\n",
            "1. 22\n",
            "\n",
            "Menu:\n",
            "1. Display To-Do List\n",
            "2. Add Task\n",
            "3. Remove Task\n",
            "4. Quit\n",
            "Enter your choice: 3\n",
            "To-Do List:\n",
            "1. 22\n",
            "Enter the task index to remove: 0\n",
            "Invalid task index. Please enter a valid index.\n",
            "\n",
            "Menu:\n",
            "1. Display To-Do List\n",
            "2. Add Task\n",
            "3. Remove Task\n",
            "4. Quit\n",
            "Enter your choice: 3\n",
            "To-Do List:\n",
            "1. 22\n",
            "Enter the task index to remove: 1\n",
            "Task '22' removed from the to-do list.\n",
            "\n",
            "Menu:\n",
            "1. Display To-Do List\n",
            "2. Add Task\n",
            "3. Remove Task\n",
            "4. Quit\n",
            "Enter your choice: 1\n",
            "Your to-do list is empty.\n",
            "\n",
            "Menu:\n",
            "1. Display To-Do List\n",
            "2. Add Task\n",
            "3. Remove Task\n",
            "4. Quit\n",
            "Enter your choice: 4\n"
          ]
        }
      ]
    },
    {
      "cell_type": "code",
      "source": [],
      "metadata": {
        "id": "FvRKpX3L2ldm"
      },
      "execution_count": null,
      "outputs": []
    }
  ]
}