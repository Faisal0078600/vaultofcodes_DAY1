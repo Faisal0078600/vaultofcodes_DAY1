{
  "nbformat": 4,
  "nbformat_minor": 0,
  "metadata": {
    "colab": {
      "provenance": [],
      "authorship_tag": "ABX9TyOc0UWAGrJnS0s6YQUFmi7X",
      "include_colab_link": true
    },
    "kernelspec": {
      "name": "python3",
      "display_name": "Python 3"
    },
    "language_info": {
      "name": "python"
    }
  },
  "cells": [
    {
      "cell_type": "markdown",
      "metadata": {
        "id": "view-in-github",
        "colab_type": "text"
      },
      "source": [
        "<a href=\"https://colab.research.google.com/github/Faisal0078600/vaultofcodes_DAY1/blob/main/Day_3ipynb.ipynb\" target=\"_parent\"><img src=\"https://colab.research.google.com/assets/colab-badge.svg\" alt=\"Open In Colab\"/></a>"
      ]
    },
    {
      "cell_type": "code",
      "execution_count": 3,
      "metadata": {
        "colab": {
          "base_uri": "https://localhost:8080/"
        },
        "id": "P8WUAxK_miXp",
        "outputId": "ad4a1646-5177-4f75-c5c1-08d4dbed79cf"
      },
      "outputs": [
        {
          "output_type": "stream",
          "name": "stdout",
          "text": [
            "Enter a password: F@I=56588gcsksh\n",
            "The password strength is: Strong\n"
          ]
        }
      ],
      "source": [
        "import re\n",
        "\n",
        "def check_password_strength(password):\n",
        "    length = len(password)\n",
        "    uppercase = bool(re.search(r'[A-Z]', password))\n",
        "    lowercase = bool(re.search(r'[a-z]', password))\n",
        "    digits = bool(re.search(r'\\d', password))\n",
        "    special_chars = bool(re.search(r'[!@#$%^&*(),.?\":{}|<>]', password))\n",
        "\n",
        "    if length > 8 and uppercase and lowercase and digits and special_chars:\n",
        "        return \"Strong\"\n",
        "    elif 6 <= length <= 8:\n",
        "        return \"Medium\"\n",
        "    elif length < 5:\n",
        "        return \"Weak\"\n",
        "    else:\n",
        "        return \"Very Weak\"\n",
        "\n",
        "# Example usage:\n",
        "password = input(\"Enter a password: \")\n",
        "strength = check_password_strength(password)\n",
        "\n",
        "print(f\"The password strength is: {strength}\")"
      ]
    },
    {
      "cell_type": "code",
      "source": [],
      "metadata": {
        "id": "fRBYYbgCmvAB"
      },
      "execution_count": null,
      "outputs": []
    }
  ]
}